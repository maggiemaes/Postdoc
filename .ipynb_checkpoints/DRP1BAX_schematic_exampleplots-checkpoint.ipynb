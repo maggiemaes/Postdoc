{
 "cells": [
  {
   "cell_type": "code",
   "execution_count": 471,
   "metadata": {},
   "outputs": [],
   "source": [
    "import matplotlib.pyplot as plt\n",
    "import numpy as np\n",
    "import pylab as p\n",
    "from matplotlib.mlab import normpdf\n",
    "import seaborn"
   ]
  },
  {
   "cell_type": "code",
   "execution_count": 472,
   "metadata": {},
   "outputs": [],
   "source": [
    "import math\n",
    "\n",
    "def sigmoid(x):\n",
    "    a = []\n",
    "    for item in x:\n",
    "        a.append((3/(1+math.exp(-(.25*(item-35))))+1))\n",
    "    return a"
   ]
  },
  {
   "cell_type": "code",
   "execution_count": 473,
   "metadata": {},
   "outputs": [
    {
     "data": {
      "image/png": "[encoded data removed]",
      "text/plain": [
       "<Figure size 432x288 with 1 Axes>"
      ]
     },
     "metadata": {},
     "output_type": "display_data"
    }
   ],
   "source": [
    "xdata = np.arange(0, 75, 1)\n",
    "sig = sigmoid(x)\n",
    "plt.plot(x,sig)\n",
    "plt.axhline(y=1.0)\n",
    "plt.show()\n"
   ]
  },
  {
   "cell_type": "code",
   "execution_count": 474,
   "metadata": {},
   "outputs": [],
   "source": [
    "def crosses(f, min_line):\n",
    "  #print \"inside\", min_line\n",
    "  for i in range(len(f)):\n",
    "    if i == (len(f)-1): \n",
    "      return i\n",
    "    y1 = f[i]\n",
    "    y2 = f[i+1]\n",
    "    #print y1, y2, min_line\n",
    "    above = y1 > min_line and y2 > min_line\n",
    "    below = y1 < min_line and y2 < min_line\n",
    "    if not (above or below):\n",
    "      #printprint y1, y2, i, min_line\n",
    "      return i\n",
    "    \n",
    "def sigmoid_d2(x, x0, k, y0, a, b):\n",
    "  y = (a * k**2 * np.exp(k* (x + x0)) * ((np.exp(k*x0))-(b*np.exp(k*x)))) / (b*np.exp(k*x) + np.exp(k*x0))**3\n",
    "  return y  "
   ]
  },
  {
   "cell_type": "code",
   "execution_count": 484,
   "metadata": {},
   "outputs": [
    {
     "data": {
      "text/plain": [
       "0.18460056205319875"
      ]
     },
     "execution_count": 484,
     "metadata": {},
     "output_type": "execute_result"
    }
   ],
   "source": [
    "def sigmoid_inflection(xs, x0, k, y0, a, b):  #inflection point for xfits \n",
    "  ys = [sigmoid_d2(x, x0, k, y0, a, b) for x in xs]\n",
    "  return crosses(ys,0)\n",
    "\n",
    "def sigmoid_d1(x, x0, k, y0, a, b):\n",
    "  y = (a * k*np.exp(k*(x+x0))) / (b*np.exp(k*x) + np.exp(k*x0))**2\n",
    "  return y\n",
    "\n",
    "slope = sigmoid_d1(xdata[i],35, .25, 1, 3, 1)\n",
    "i= sigmoid_inflection(xdata, 35, .25, 1, 3, 1)\n",
    "xdata[i]\n",
    "sig[i]\n",
    "slope\n",
    "\n"
   ]
  },
  {
   "cell_type": "code",
   "execution_count": 519,
   "metadata": {},
   "outputs": [],
   "source": [
    "def plot_cell_start(xs, ys, k, xinfl, yinfl, y0):\n",
    "    plt.plot(xs, ys, linewidth=2.5, color= 'b')\n",
    "    line = [k*x + yinfl - k*xinfl for x in xs]\n",
    "    line2= [slope*x + y0 for x in xs]\n",
    "#     plt.plot(xs, line, label=\"BAX recruitment rate\", linewidth=1.5, color='black', linestyle='dashed'  )\n",
    "#     plt.plot(xs, line2, label=\"Maximum Rate\", linewidth=1.5, color='orange' )\n",
    "    y0s = [y0 for x in xs]\n",
    "#     plt.plot(xs, y0s, label=\"Minimum Boundary\", linewidth=2, color= \"black\")\n",
    "    \n",
    "    \n",
    "    plt.ylim([0, 5])\n",
    "    plt.xlim([0, 70])\n",
    "    plt.xlabel(\"Relative Time (min)\")\n",
    "    plt.ylabel(\"Relative Fluorescence\")\n",
    "    plt.axhline(y=0, linewidth = 2.5, color= 'black')\n",
    "    plt.axhline(y=4, color='gray')\n",
    "    plt.axhline(y=1, color='gray')\n",
    "    plt.axvline(x=26.5, linewidth=2, color='lime', linestyle='dashed',label= 'BAX initiation')\n",
    "    plt.axvline(x=crosses(line,4),linewidth=2, color='red', linestyle='dashed', label= \"BAX completion\")\n",
    "    plt.axvline(x=0, linewidth = 2.5, color= 'black')\n",
    "    seaborn.despine(top=True)   \n",
    "    plt.legend(loc=4, bbox_to_anchor=(1,-0.4),frameon=False)\n",
    "    plt.savefig('Comp3', format='png', bbox_inches='tight', transparent=True)"
   ]
  },
  {
   "cell_type": "code",
   "execution_count": 520,
   "metadata": {},
   "outputs": [
    {
     "data": {
      "image/png": "[encoded data removed]",
      "text/plain": [
       "<Figure size 432x288 with 1 Axes>"
      ]
     },
     "metadata": {},
     "output_type": "display_data"
    }
   ],
   "source": [
    "plot_cell_start(xdata, sig, slope, xdata[i], sig[i], 1)\n"
   ]
  },
  {
   "cell_type": "code",
   "execution_count": null,
   "metadata": {},
   "outputs": [],
   "source": []
  }
 ],
 "metadata": {
  "kernelspec": {
   "display_name": "Python 3",
   "language": "python",
   "name": "python3"
  },
  "language_info": {
   "codemirror_mode": {
    "name": "ipython",
    "version": 3
   },
   "file_extension": ".py",
   "mimetype": "text/x-python",
   "name": "python",
   "nbconvert_exporter": "python",
   "pygments_lexer": "ipython3",
   "version": "3.6.5"
  }
 },
 "nbformat": 4,
 "nbformat_minor": 2
}
